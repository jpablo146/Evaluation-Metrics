{
  "nbformat": 4,
  "nbformat_minor": 0,
  "metadata": {
    "colab": {
      "name": "Precision-vs-Recall",
      "provenance": []
    },
    "kernelspec": {
      "name": "python3",
      "display_name": "Python 3"
    },
    "language_info": {
      "name": "python"
    }
  },
  "cells": [
    {
      "cell_type": "markdown",
      "source": [
        "## **Definitions**\n",
        "\n",
        "**Precision:** (also called positive predictive value)\n",
        "\n",
        "The ratio between the number of Positive samples correctly classified to the total number of samples classified as Positive (either correctly or incorrectly)\n",
        "\n",
        "\\begin{align}\n",
        "Precision = \\frac{True \\ Positives \\ (TP) \\,}{True \\ Positives \\ (TP) \\ + \\ False \\ Positives \\ (FP)}\n",
        "\\end{align}\n",
        "\n",
        "\n",
        "\n",
        "\n",
        "**Recall:**\n",
        "\n",
        "The ratio between the number of Positive samples correctly classified as Positive to the total number of Positive samples\n",
        "\n",
        "* Is the measure of our model correctly identifying True Positives\n",
        "\n",
        "\n",
        "\n",
        "\n",
        "\\begin{align}\n",
        "Precision = \\frac{True \\ Positives \\ (TP) \\,}{True \\ Positives \\ (TP) \\ + \\ False \\ Negatives \\ (FN)}\n",
        "\\end{align}"
      ],
      "metadata": {
        "id": "CGVRdYM1_HlX"
      }
    },
    {
      "cell_type": "code",
      "execution_count": null,
      "metadata": {
        "id": "gf9WSVRH-AG_"
      },
      "outputs": [],
      "source": [
        ""
      ]
    },
    {
      "cell_type": "markdown",
      "source": [
        "Links of interest:\n",
        "\n",
        "https://www.analyticsvidhya.com/blog/2020/09/precision-recall-machine-learning/"
      ],
      "metadata": {
        "id": "nlDQ9k3i-DMe"
      }
    }
  ]
}